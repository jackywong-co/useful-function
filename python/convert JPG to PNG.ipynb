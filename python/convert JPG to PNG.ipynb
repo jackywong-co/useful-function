{
 "cells": [
  {
   "cell_type": "code",
   "execution_count": null,
   "metadata": {},
   "outputs": [],
   "source": [
    "from PIL import Image\n",
    "for x in range(1, 201):\n",
    "    try:\n",
    "        imgPath = \"./dataset/water-machine/{}.jpg\".format(str(x).rjust(3, '0'))\n",
    "        print(imgPath)\n",
    "        img = Image.open(imgPath)\n",
    "        img.save(\"./dataset/water-machine/{}.png\".format(str(x).rjust(3, '0')))\n",
    "        print('The image conversion from JPG to PNG is successful')\n",
    "    except FileNotFoundError:\n",
    "        print('Provided image path is not found')"
   ]
  }
 ],
 "metadata": {
  "language_info": {
   "name": "python"
  },
  "orig_nbformat": 4
 },
 "nbformat": 4,
 "nbformat_minor": 2
}
